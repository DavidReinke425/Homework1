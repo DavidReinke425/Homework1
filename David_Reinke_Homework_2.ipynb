{
 "cells": [
  {
   "cell_type": "code",
   "execution_count": 1,
   "id": "2e4ab35c",
   "metadata": {},
   "outputs": [],
   "source": [
    "import time\n",
    "import pandas as pd\n",
    "from bs4 import BeautifulSoup\n",
    "from selenium import webdriver\n",
    "from selenium.common.exceptions import NoSuchElementException\n",
    "from selenium.webdriver.common.keys import Keys"
   ]
  },
  {
   "cell_type": "code",
   "execution_count": 4,
   "id": "698ab6a9",
   "metadata": {},
   "outputs": [
    {
     "name": "stdout",
     "output_type": "stream",
     "text": [
      "Done\n"
     ]
    }
   ],
   "source": [
    "movie = \"pacific_rim_2013\"\n",
    "page_num = 3\n",
    "file_name= 'david_reinke_'+ movie + '.txt'\n",
    "path = '/Users/davidreinke/Desktop/chromedriver 14'\n",
    "browser = webdriver.Chrome(path)\n",
    "url_p1 = 'https://www.rottentomatoes.com/m/'\n",
    "all_critics = '/reviews'\n",
    "url = url_p1 + movie + all_critics\n",
    "browser.get(url)\n",
    "\n",
    "def check_exists_by_xpath(xpath):\n",
    "    try:\n",
    "        browser.find_element_by_xpath(xpath)\n",
    "    except NoSuchElementException:\n",
    "        return False\n",
    "    return True\n",
    "\n",
    "Critic_list = []\n",
    "Source_list = []\n",
    "Text_list = []\n",
    "Date_list = []\n",
    "Rating_list = []\n",
    "\n",
    "for i in range(0, page_num):\n",
    "        \n",
    "    Critic = 'NA'\n",
    "    Rating = 'NA'\n",
    "    Source = 'NA'\n",
    "    Text = 'NA'\n",
    "    Date = 'NA'\n",
    "    \n",
    "    \n",
    "    page_source = browser.page_source\n",
    "    soup = BeautifulSoup(page_source, 'html')\n",
    "    reviews_content = soup.find_all('div', class_='row review_table_row')\n",
    "    \n",
    "    for review in reviews_content:\n",
    "        try:\n",
    "            Critic = review.find('a', class_ ='unstyled bold articleLink').text\n",
    "        except:\n",
    "            Critic = 'NA'\n",
    "        try:\n",
    "            s = review.find('em')\n",
    "            Source = s.get_text()\n",
    "        except:\n",
    "            Source = 'NA'\n",
    "        try:\n",
    "            Text = review.find('div' , class_= 'the_review').text.strip().replace('\\n',' ')\n",
    "        except:\n",
    "            Text = 'NA'\n",
    "        try:\n",
    "            Date = review.find('div' , class_ ='review-date subtle small').text.strip().replace('\\n',' ')\n",
    "        except:\n",
    "            Date = 'NA'\n",
    "        try:\n",
    "            Rclass_ = review.find('div' , class_ = 'review_icon icon small fresh')\n",
    "            Rating_string = str(Rclass_)\n",
    "            Rating_split = Rating_string.split()\n",
    "            Rating_unclean = Rating_split[4]\n",
    "            Rating = Rating_unclean.strip().replace('\">',' ')\n",
    "        except:\n",
    "            Rating = 5\n",
    "        if Rating == 5:\n",
    "            try:\n",
    "                Rclass_ = review.find('div' , class_ = 'review_icon icon small rotten')\n",
    "                Rating_string = str(Rclass_)\n",
    "                Rating_split = Rating_string.split()\n",
    "                Rating_unclean = Rating_split[4]\n",
    "                Rating = Rating_unclean.strip().replace('\">',' ')\n",
    "            except:\n",
    "                Rating = 'NA'\n",
    "        Critic_list.append(Critic)\n",
    "        Source_list.append(Source)\n",
    "        Text_list.append(Text)\n",
    "        Date_list.append(Date)\n",
    "        Rating_list.append(Rating)\n",
    "    \n",
    "    if check_exists_by_xpath('//*[@id=\"content\"]/div/div/div/nav[2]/button[2]'):\n",
    "        browser.find_element_by_xpath('//*[@id=\"content\"]/div/div/div/nav[2]/button[2]').click()\n",
    "        time.sleep(1)\n",
    "data = {\n",
    "    'Critic':Critic_list,\n",
    "    'Source':Source_list,\n",
    "    'Text':Text_list,\n",
    "    'Date':Date_list,\n",
    "    'Rating':Rating_list\n",
    "}\n",
    "\n",
    "df = pd.DataFrame(data)\n",
    "\n",
    "print('Done')"
   ]
  },
  {
   "cell_type": "code",
   "execution_count": 7,
   "id": "98b0f1d2",
   "metadata": {},
   "outputs": [],
   "source": [
    "df.to_csv('test.csv')"
   ]
  },
  {
   "cell_type": "code",
   "execution_count": null,
   "id": "6d2862d5",
   "metadata": {},
   "outputs": [],
   "source": []
  }
 ],
 "metadata": {
  "kernelspec": {
   "display_name": "Python 3",
   "language": "python",
   "name": "python3"
  },
  "language_info": {
   "codemirror_mode": {
    "name": "ipython",
    "version": 3
   },
   "file_extension": ".py",
   "mimetype": "text/x-python",
   "name": "python",
   "nbconvert_exporter": "python",
   "pygments_lexer": "ipython3",
   "version": "3.8.8"
  }
 },
 "nbformat": 4,
 "nbformat_minor": 5
}
